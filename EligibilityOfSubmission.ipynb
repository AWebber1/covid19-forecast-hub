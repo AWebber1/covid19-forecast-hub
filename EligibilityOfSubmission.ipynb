{
 "cells": [
  {
   "cell_type": "code",
   "execution_count": 1,
   "metadata": {},
   "outputs": [],
   "source": [
    "import pandas as pd\n",
    "import numpy as np\n",
    "import os \n",
    "import glob"
   ]
  },
  {
   "cell_type": "code",
   "execution_count": 2,
   "metadata": {},
   "outputs": [],
   "source": [
    "list_mdl = ['CMU-TimeSeries', 'Covid19Sim-Simulator', 'COVIDhub-baseline', 'COVIDhub-ensemble', 'CU-select', 'GT-DeepCOVID',\\\n",
    "            'IHME-CurveFit', 'IowaStateLW-STEM', 'JHU_IDD-CovidSP', 'Karlen-pypm', 'LANL-GrowthRate', 'MOBS-GLEAM_COVID', \\\n",
    "            'NotreDame-mobility', 'OliverWyman-Navigator', 'PSI-DRAFT', 'RobertWalraven-ESG', 'UA-EpiCovDA', 'UCLA-SuEIR', \\\n",
    "            'UMass-MechBayes', 'UMich-RidgeTfReg', 'USACE-ERDC_SEIR', 'YYG-ParamSearch'];"
   ]
  },
  {
   "cell_type": "code",
   "execution_count": 3,
   "metadata": {},
   "outputs": [
    {
     "name": "stdout",
     "output_type": "stream",
     "text": [
      "True\n"
     ]
    }
   ],
   "source": [
    "# Check whether all directory exit\n",
    "dir_exist = [  os.path.isdir( './data-processed/'+each_mdl )   for each_mdl in list_mdl]\n",
    "print(np.all(dir_exist))"
   ]
  },
  {
   "cell_type": "code",
   "execution_count": 23,
   "metadata": {
    "scrolled": true
   },
   "outputs": [
    {
     "name": "stdout",
     "output_type": "stream",
     "text": [
      "234.28571428571428\n",
      "52.146341463414636\n",
      "3199.0\n",
      "2347.6041666666665\n",
      "2202.157894736842\n",
      "47.56521739130435\n",
      "52.72549019607843\n",
      "5016.377777777778\n",
      "2567.9555555555557\n",
      "52.82857142857143\n",
      "3480.6435643564355\n",
      "50.714285714285715\n",
      "54.92307692307692\n",
      "2615.731707317073\n",
      "54.75\n",
      "1071.0697674418604\n",
      "52.0\n",
      "1235.6\n",
      "431.97872340425533\n",
      "41.729729729729726\n",
      "51.975\n",
      "56.0\n",
      "['CMU-TimeSeries', 'Covid19Sim-Simulator', 'COVIDhub-baseline', 'COVIDhub-ensemble', 'CU-select', 'GT-DeepCOVID', 'IHME-CurveFit', 'IowaStateLW-STEM', 'JHU_IDD-CovidSP', 'Karlen-pypm', 'LANL-GrowthRate', 'MOBS-GLEAM_COVID', 'NotreDame-mobility', 'OliverWyman-Navigator', 'PSI-DRAFT', 'RobertWalraven-ESG', 'UA-EpiCovDA', 'UCLA-SuEIR', 'UMass-MechBayes', 'UMich-RidgeTfReg', 'USACE-ERDC_SEIR', 'YYG-ParamSearch']\n",
      "[35, 41, 49, 48, 49, 46, 21, 44, 44, 35, 50, 49, 25, 41, 44, 42, 42, 44, 47, 37, 29, 76]\n",
      "[234.28571428571428, 52.146341463414636, 3199.0, 2347.6041666666665, 2202.157894736842, 47.56521739130435, 52.72549019607843, 5016.377777777778, 2567.9555555555557, 52.82857142857143, 3480.6435643564355, 50.714285714285715, 54.92307692307692, 2615.731707317073, 54.75, 1071.0697674418604, 52.0, 1235.6, 431.97872340425533, 41.729729729729726, 51.975, 56.0]\n"
     ]
    }
   ],
   "source": [
    "# Count number of submission week \n",
    "ls_week        = [ each.strftime(\"%Y-%m-%d\") for each in pd.date_range(start='2020-04-13', end='2021-03-18', freq='7D')];\n",
    "ls_week_after  = [ each.strftime(\"%Y-%m-%d\") for each in pd.date_range(start='2020-04-14', end='2021-03-19', freq='7D')];\n",
    "ls_week_prev   = [ each.strftime(\"%Y-%m-%d\") for each in pd.date_range(start='2020-04-12', end='2021-03-17', freq='7D')];\n",
    "##print(ls_week)\n",
    "\n",
    "n_sub = [];\n",
    "avg_loc = [];\n",
    "for each_mdl in list_mdl:\n",
    "    path_mdl = './data-processed/'+each_mdl + '/';\n",
    "    sub_files = glob.glob( path_mdl + '*.csv');\n",
    "    \n",
    "    n_loc = [];\n",
    "    cnt=0;\n",
    "    for each_files in sub_files:\n",
    "        forecast_date = '-'.join( each_files.split('/')[-1].split('-')[0:3] );\n",
    "        if( (forecast_date in ls_week) | (forecast_date in ls_week_after) | (forecast_date in ls_week_prev) ):\n",
    "            cnt=cnt+1;\n",
    "        locs = pd.read_csv(each_files)['location'].drop_duplicates().shape[0]\n",
    "        n_loc.append(locs)  \n",
    "        \n",
    "    print(np.mean(n_loc))\n",
    "    avg_loc.append(np.mean(n_loc))  \n",
    "    n_sub.append(cnt)  \n",
    "print(list_mdl)\n",
    "print(n_sub)\n",
    "print(avg_loc)"
   ]
  },
  {
   "cell_type": "code",
   "execution_count": 29,
   "metadata": {},
   "outputs": [
    {
     "name": "stdout",
     "output_type": "stream",
     "text": [
      "[ 2  3  4  7  8 10 13]\n",
      "57.0\n",
      "48.583333333333336\n",
      "39.0\n",
      "40.0\n",
      "55.17777777777778\n",
      "42.79207920792079\n",
      "51.8780487804878\n",
      "['COVIDhub-baseline', 'COVIDhub-ensemble', 'CU-select', 'IowaStateLW-STEM', 'JHU_IDD-CovidSP', 'LANL-GrowthRate', 'OliverWyman-Navigator']\n",
      "[49, 48, 49, 44, 44, 50, 41]\n",
      "[57.0, 48.583333333333336, 39.0, 40.0, 55.17777777777778, 42.79207920792079, 51.8780487804878]\n"
     ]
    }
   ],
   "source": [
    "# Choose those more than 2000\n",
    "list_mdl_sel = [ list_mdl[each] for each in np.where(np.array(avg_loc)>2000)[0] ];\n",
    "print(np.where(np.array(avg_loc)>2000)[0])\n",
    "n_sub_sel = [];\n",
    "avg_loc_sel = [];\n",
    "for each_mdl in list_mdl_sel:\n",
    "    path_mdl = './data-processed/'+each_mdl + '/';\n",
    "    sub_files = glob.glob( path_mdl + '*.csv');\n",
    "    \n",
    "    n_loc = [];\n",
    "    cnt=0;\n",
    "    for each_files in sub_files:\n",
    "        forecast_date = '-'.join( each_files.split('/')[-1].split('-')[0:3] );\n",
    "        if( (forecast_date in ls_week) | (forecast_date in ls_week_after) | (forecast_date in ls_week_prev) ):\n",
    "            cnt=cnt+1;\n",
    "        df = pd.read_csv(each_files);\n",
    "        df = df[df['target'].str.contains('inc death')]\n",
    "        locs = df['location'].drop_duplicates().shape[0]\n",
    "        n_loc.append(locs)  \n",
    "        \n",
    "    print(np.mean(n_loc))\n",
    "    avg_loc_sel.append(np.mean(n_loc))  \n",
    "    n_sub_sel.append(cnt)  \n",
    "print(list_mdl_sel)\n",
    "print(n_sub_sel)\n",
    "print(avg_loc_sel)    "
   ]
  },
  {
   "cell_type": "code",
   "execution_count": null,
   "metadata": {},
   "outputs": [],
   "source": []
  },
  {
   "cell_type": "code",
   "execution_count": null,
   "metadata": {},
   "outputs": [],
   "source": []
  },
  {
   "cell_type": "code",
   "execution_count": null,
   "metadata": {},
   "outputs": [],
   "source": []
  }
 ],
 "metadata": {
  "kernelspec": {
   "display_name": "Python 3",
   "language": "python",
   "name": "python3"
  },
  "language_info": {
   "codemirror_mode": {
    "name": "ipython",
    "version": 3
   },
   "file_extension": ".py",
   "mimetype": "text/x-python",
   "name": "python",
   "nbconvert_exporter": "python",
   "pygments_lexer": "ipython3",
   "version": "3.8.3"
  }
 },
 "nbformat": 4,
 "nbformat_minor": 4
}
